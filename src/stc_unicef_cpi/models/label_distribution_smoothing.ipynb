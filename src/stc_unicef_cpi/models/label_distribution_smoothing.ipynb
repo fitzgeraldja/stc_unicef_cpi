{
 "cells": [
  {
   "cell_type": "markdown",
   "metadata": {},
   "source": [
    "# Label Distribution Smoothing"
   ]
  },
  {
   "cell_type": "code",
   "execution_count": 13,
   "metadata": {},
   "outputs": [],
   "source": [
    "import pandas as pd\n",
    "import numpy as np\n",
    "import matplotlib.pyplot as plt"
   ]
  },
  {
   "cell_type": "markdown",
   "metadata": {},
   "source": [
    "https://towardsdatascience.com/strategies-and-tactics-for-regression-on-imbalanced-data-61eeb0921fca"
   ]
  },
  {
   "cell_type": "code",
   "execution_count": 4,
   "metadata": {},
   "outputs": [
    {
     "data": {
      "text/html": [
       "<div>\n",
       "<style scoped>\n",
       "    .dataframe tbody tr th:only-of-type {\n",
       "        vertical-align: middle;\n",
       "    }\n",
       "\n",
       "    .dataframe tbody tr th {\n",
       "        vertical-align: top;\n",
       "    }\n",
       "\n",
       "    .dataframe thead th {\n",
       "        text-align: right;\n",
       "    }\n",
       "</style>\n",
       "<table border=\"1\" class=\"dataframe\">\n",
       "  <thead>\n",
       "    <tr style=\"text-align: right;\">\n",
       "      <th></th>\n",
       "      <th>hex_code</th>\n",
       "      <th>year</th>\n",
       "      <th>round</th>\n",
       "      <th>cluster</th>\n",
       "      <th>hhid</th>\n",
       "      <th>indid</th>\n",
       "      <th>location</th>\n",
       "      <th>sex</th>\n",
       "      <th>wealth</th>\n",
       "      <th>wealthscore</th>\n",
       "      <th>...</th>\n",
       "      <th>Optical_Depth_055</th>\n",
       "      <th>NDWI</th>\n",
       "      <th>NDVI</th>\n",
       "      <th>discrete_classification-proba_mean</th>\n",
       "      <th>discrete_classification_mean</th>\n",
       "      <th>avg_rad</th>\n",
       "      <th>cf_cvg</th>\n",
       "      <th>built</th>\n",
       "      <th>cnfd</th>\n",
       "      <th>Road_density</th>\n",
       "    </tr>\n",
       "  </thead>\n",
       "  <tbody>\n",
       "    <tr>\n",
       "      <th>0</th>\n",
       "      <td>609534210041970687</td>\n",
       "      <td>2018.0</td>\n",
       "      <td>72.0</td>\n",
       "      <td>739.0</td>\n",
       "      <td>103.803738</td>\n",
       "      <td>5.523364</td>\n",
       "      <td>2.0</td>\n",
       "      <td>1.439252</td>\n",
       "      <td>1.140187</td>\n",
       "      <td>-124478.626168</td>\n",
       "      <td>...</td>\n",
       "      <td>2569.544731</td>\n",
       "      <td>-0.329164</td>\n",
       "      <td>1.449629</td>\n",
       "      <td>262.2</td>\n",
       "      <td>240.0</td>\n",
       "      <td>0.650088</td>\n",
       "      <td>46.097220</td>\n",
       "      <td>0.0</td>\n",
       "      <td>0.0</td>\n",
       "      <td>0.000000</td>\n",
       "    </tr>\n",
       "    <tr>\n",
       "      <th>1</th>\n",
       "      <td>609534214102056959</td>\n",
       "      <td>2018.0</td>\n",
       "      <td>72.0</td>\n",
       "      <td>701.0</td>\n",
       "      <td>21.901099</td>\n",
       "      <td>5.219780</td>\n",
       "      <td>2.0</td>\n",
       "      <td>1.505495</td>\n",
       "      <td>1.461538</td>\n",
       "      <td>-108688.439560</td>\n",
       "      <td>...</td>\n",
       "      <td>2076.441603</td>\n",
       "      <td>-0.370748</td>\n",
       "      <td>1.165454</td>\n",
       "      <td>239.6</td>\n",
       "      <td>200.0</td>\n",
       "      <td>0.586569</td>\n",
       "      <td>45.833332</td>\n",
       "      <td>0.0</td>\n",
       "      <td>0.0</td>\n",
       "      <td>0.468752</td>\n",
       "    </tr>\n",
       "  </tbody>\n",
       "</table>\n",
       "<p>2 rows × 50 columns</p>\n",
       "</div>"
      ],
      "text/plain": [
       "             hex_code    year  round  cluster        hhid     indid  location  \\\n",
       "0  609534210041970687  2018.0   72.0    739.0  103.803738  5.523364       2.0   \n",
       "1  609534214102056959  2018.0   72.0    701.0   21.901099  5.219780       2.0   \n",
       "\n",
       "        sex    wealth    wealthscore  ...  Optical_Depth_055      NDWI  \\\n",
       "0  1.439252  1.140187 -124478.626168  ...        2569.544731 -0.329164   \n",
       "1  1.505495  1.461538 -108688.439560  ...        2076.441603 -0.370748   \n",
       "\n",
       "       NDVI  discrete_classification-proba_mean  discrete_classification_mean  \\\n",
       "0  1.449629                               262.2                         240.0   \n",
       "1  1.165454                               239.6                         200.0   \n",
       "\n",
       "    avg_rad     cf_cvg  built  cnfd  Road_density  \n",
       "0  0.650088  46.097220    0.0   0.0      0.000000  \n",
       "1  0.586569  45.833332    0.0   0.0      0.468752  \n",
       "\n",
       "[2 rows x 50 columns]"
      ]
     },
     "execution_count": 4,
     "metadata": {},
     "output_type": "execute_result"
    }
   ],
   "source": [
    "nga_clean = pd.read_csv('C:/Users/vicin/Desktop/DSSG/Nigeria/nga_clean_v1.csv')\n",
    "nga_clean.head(2)"
   ]
  },
  {
   "cell_type": "code",
   "execution_count": 51,
   "metadata": {},
   "outputs": [
    {
     "data": {
      "image/png": "[encoded data removed]",
      "text/plain": [
       "<Figure size 432x288 with 1 Axes>"
      ]
     },
     "metadata": {
      "needs_background": "light"
     },
     "output_type": "display_data"
    }
   ],
   "source": [
    "_= plt.hist(nga_clean['dep_sanitation_sev'], bins=50)\n",
    "_= plt.title('Empirical Label Distribution')"
   ]
  },
  {
   "cell_type": "code",
   "execution_count": 30,
   "metadata": {},
   "outputs": [],
   "source": [
    "from scipy.ndimage import gaussian_filter1d\n",
    "# https://github.com/YyzHarry/imbalanced-regression\n",
    "\n",
    "\n",
    "def get_lds_kernel_window(kernel, ks, sigma):\n",
    "    assert kernel in ['gaussian', 'triang', 'laplace']\n",
    "    half_ks = (ks - 1) // 2\n",
    "    if kernel == 'gaussian':\n",
    "        base_kernel = [0.] * half_ks + [1.] + [0.] * half_ks\n",
    "        kernel_window = gaussian_filter1d(base_kernel, sigma=sigma) / max(gaussian_filter1d(base_kernel, sigma=sigma))\n",
    "    elif kernel == 'triang':\n",
    "        kernel_window = triang(ks)\n",
    "    else:\n",
    "        laplace = lambda x: np.exp(-abs(x) / sigma) / (2. * sigma)\n",
    "        kernel_window = list(map(laplace, np.arange(-half_ks, half_ks + 1))) / max(map(laplace, np.arange(-half_ks, half_ks + 1)))\n",
    "\n",
    "    return kernel_window"
   ]
  },
  {
   "cell_type": "code",
   "execution_count": 27,
   "metadata": {},
   "outputs": [],
   "source": [
    "# \"Ns\" is the number of total samples\n",
    "Ns = nga_clean.shape[0]\n",
    "\n",
    "# assign each label to its corresponding bin (start from 0)\n",
    "bin_index_per_label = list(pd.cut(nga_clean['dep_sanitation_sev'], bins = 50, labels = list(range(50))))"
   ]
  },
  {
   "cell_type": "code",
   "execution_count": 47,
   "metadata": {},
   "outputs": [
    {
     "name": "stdout",
     "output_type": "stream",
     "text": [
      "50\n",
      "[0.00000000e+00 3.35462628e-04 2.85655008e-02 4.11112291e-01\n",
      " 1.00000000e+00 4.11112291e-01 2.85655008e-02 3.35462628e-04\n",
      " 0.00000000e+00]\n",
      "[300 159  49  43  46  49  44  37  35  35  35  30  22  21  24  24  29  27\n",
      "  26  30  33  35  32  27  27  27  31  27  26  34  36  31  29  29  32  30\n",
      "  27  22  27  30  38  44  36  36  37  39  46  53 119 212]\n"
     ]
    }
   ],
   "source": [
    "from collections import Counter\n",
    "from scipy.ndimage import convolve1d\n",
    "# from utils import get_lds_kernel_window\n",
    "\n",
    "# calculate empirical (original) label distribution: [Nb,]\n",
    "# \"Nb\" is the number of bins\n",
    "Nb = max(bin_index_per_label) + 1\n",
    "num_samples_of_bins = dict(Counter(bin_index_per_label))\n",
    "emp_label_dist = [num_samples_of_bins.get(i, 0) for i in range(Nb)]\n",
    "\n",
    "# lds_kernel_window: [ks,], here for example, we use gaussian, ks=5, sigma=2\n",
    "lds_kernel_window = get_lds_kernel_window(kernel='gaussian', ks=10, sigma=0.75)\n",
    "# calculate effective label distribution: [Nb,]\n",
    "eff_label_dist = convolve1d(np.array(emp_label_dist), weights=lds_kernel_window, mode='constant')"
   ]
  },
  {
   "cell_type": "code",
   "execution_count": 52,
   "metadata": {},
   "outputs": [
    {
     "data": {
      "image/png": "[encoded data removed]",
      "text/plain": [
       "<Figure size 432x288 with 1 Axes>"
      ]
     },
     "metadata": {
      "needs_background": "light"
     },
     "output_type": "display_data"
    }
   ],
   "source": [
    "_= plt.bar(range(50), eff_label_dist)\n",
    "_= plt.title('Effective label distribution')"
   ]
  },
  {
   "cell_type": "markdown",
   "metadata": {},
   "source": [
    "Now that the effective label density is available, techniques for addressing class imbalance problems can be directly adapted to the DIR context. For example, a straightforward adaptation can be the cost-sensitive re-weighting method, where we reweight the loss function by multiplying it by the inverse of the LDS estimated label density for each target."
   ]
  },
  {
   "cell_type": "code",
   "execution_count": null,
   "metadata": {},
   "outputs": [],
   "source": [
    "# With the estimated effective label distribution, one straightforward option is to use the loss re-weighting scheme:\n",
    "\n",
    "from loss import weighted_mse_loss\n",
    "\n",
    "# Use re-weighting based on effective label distribution, sample-wise weights: [Ns,]\n",
    "eff_num_per_label = [eff_label_dist[bin_idx] for bin_idx in bin_index_per_label]\n",
    "weights = [np.float32(1 / x) for x in eff_num_per_label]\n"
   ]
  },
  {
   "cell_type": "markdown",
   "metadata": {},
   "source": [
    "Now I can compute the weighted loss"
   ]
  },
  {
   "cell_type": "code",
   "execution_count": null,
   "metadata": {},
   "outputs": [],
   "source": [
    "# calculate loss\n",
    "loss = weighted_mse_loss(preds, labels, weights=weights)"
   ]
  }
 ],
 "metadata": {
  "kernelspec": {
   "display_name": "Python 3.9.12 ('dssg')",
   "language": "python",
   "name": "python3"
  },
  "language_info": {
   "codemirror_mode": {
    "name": "ipython",
    "version": 3
   },
   "file_extension": ".py",
   "mimetype": "text/x-python",
   "name": "python",
   "nbconvert_exporter": "python",
   "pygments_lexer": "ipython3",
   "version": "3.9.12"
  },
  "orig_nbformat": 4,
  "vscode": {
   "interpreter": {
    "hash": "821371837053082c8f579538e0d8eca21363199c8b6836dba147978782ace386"
   }
  }
 },
 "nbformat": 4,
 "nbformat_minor": 2
}
